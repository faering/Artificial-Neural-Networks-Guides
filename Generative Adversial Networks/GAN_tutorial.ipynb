{
 "cells": [
  {
   "cell_type": "markdown",
   "metadata": {},
   "source": [
    "# Generative Adversial Networks\n",
    "\n",
    "This is a guide for creating a Generative Adversial Network (GAN). The guide is meant to cover the basics of GANs and to use as reference in related future work. The guide is heavily influenced by the tutorial found at https://medium.com/ai-society/gans-from-scratch-1-a-deep-introduction-with-code-in-pytorch-and-tensorflow-cb03cdcdba0f.\n",
    "\n",
    "The guide will cover:\n",
    "1. Data loading.\n",
    "2. Building the network\n",
    "3. .."
   ]
  },
  {
   "cell_type": "code",
   "execution_count": 102,
   "metadata": {},
   "outputs": [],
   "source": [
    "import torch\n",
    "from torch import nn, optim\n",
    "from torch.autograd.variable import Variable\n",
    "from torchvision import transforms, datasets\n",
    "import random\n",
    "import matplotlib.pyplot as plt\n",
    "import numpy as np\n",
    "from IPython.display import clear_output\n",
    "from timeit import default_timer as timer\n",
    "import pandas as pd\n",
    "\n",
    "device = torch.device(\"cuda\" if torch.cuda.is_available() else \"cpu\")"
   ]
  },
  {
   "cell_type": "markdown",
   "metadata": {},
   "source": [
    "# 1. Data Loading"
   ]
  },
  {
   "cell_type": "code",
   "execution_count": 38,
   "metadata": {},
   "outputs": [],
   "source": [
    "def MNIST_dataset():\n",
    "    compose = transforms.Compose(\n",
    "        [transforms.ToTensor(),\n",
    "         transforms.Normalize((.5, .5, .5), (.5, .5, .5))\n",
    "        ])\n",
    "    out_dir = './dataset'\n",
    "    return datasets.MNIST(root=out_dir, train=True, transform=compose, download=True)\n",
    "\n",
    "# Load data\n",
    "dataset = MNIST_dataset()"
   ]
  },
  {
   "cell_type": "markdown",
   "metadata": {},
   "source": [
    "# Show Training Images"
   ]
  },
  {
   "cell_type": "code",
   "execution_count": 39,
   "metadata": {},
   "outputs": [
    {
     "data": {
      "image/png": "[encoded data removed]",
      "text/plain": [
       "<Figure size 1080x504 with 5 Axes>"
      ]
     },
     "metadata": {},
     "output_type": "display_data"
    },
    {
     "data": {
      "image/png": "[encoded data removed]",
      "text/plain": [
       "<Figure size 1080x504 with 5 Axes>"
      ]
     },
     "metadata": {},
     "output_type": "display_data"
    }
   ],
   "source": [
    "def show_images(dataset):\n",
    "    \"\"\"\n",
    "    Show sample images, their unique name, concentration and pixel intensity.\n",
    "    \n",
    "    Args\n",
    "        dataset: should contain dataset.df and dataset[idx] = sample.\n",
    "    \"\"\"\n",
    "    # random sample 5 samples to plot        \n",
    "    idx = random.sample(range(1, dataset.train_data.shape[0]), k=5)\n",
    "\n",
    "    fig, axs = plt.subplots(1, 5, figsize=(15,7), sharey=True)\n",
    "    \n",
    "    # plot sample images\n",
    "    for n, i in enumerate(idx):\n",
    "        axs[n].imshow(dataset.train_data[i], cmap='gray')\n",
    "        axs[n].set_title(\"Label: \"+str(dataset.train_labels[i].item()), fontsize=16)\n",
    "    plt.tight_layout()\n",
    "    plt.show()\n",
    "    \n",
    "for i in range(2):\n",
    "    show_images(dataset)"
   ]
  },
  {
   "cell_type": "markdown",
   "metadata": {},
   "source": [
    "# Define the Discriminator Network"
   ]
  },
  {
   "cell_type": "code",
   "execution_count": 90,
   "metadata": {},
   "outputs": [
    {
     "name": "stdout",
     "output_type": "stream",
     "text": [
      "DiscriminatorNet(\n",
      "  (hidden0): Sequential(\n",
      "    (0): Linear(in_features=784, out_features=1024, bias=True)\n",
      "    (1): LeakyReLU(negative_slope=0.2)\n",
      "    (2): Dropout(p=0.3)\n",
      "  )\n",
      "  (hidden1): Sequential(\n",
      "    (0): Linear(in_features=1024, out_features=512, bias=True)\n",
      "    (1): LeakyReLU(negative_slope=0.2)\n",
      "    (2): Dropout(p=0.3)\n",
      "  )\n",
      "  (hidden2): Sequential(\n",
      "    (0): Linear(in_features=512, out_features=256, bias=True)\n",
      "    (1): LeakyReLU(negative_slope=0.2)\n",
      "    (2): Dropout(p=0.3)\n",
      "  )\n",
      "  (out): Sequential(\n",
      "    (0): Linear(in_features=256, out_features=1, bias=True)\n",
      "    (1): Sigmoid()\n",
      "  )\n",
      ")\n"
     ]
    }
   ],
   "source": [
    "class DiscriminatorNet(torch.nn.Module):\n",
    "    \n",
    "    def __init__(self):\n",
    "        super(DiscriminatorNet, self).__init__()\n",
    "        n_features = 784\n",
    "        n_out = 1\n",
    "        \n",
    "        self.hidden0 = nn.Sequential( \n",
    "            nn.Linear(n_features, 1024),\n",
    "            nn.LeakyReLU(0.2),\n",
    "            nn.Dropout(0.3)\n",
    "        )\n",
    "        self.hidden1 = nn.Sequential(\n",
    "            nn.Linear(1024, 512),\n",
    "            nn.LeakyReLU(0.2),\n",
    "            nn.Dropout(0.3)\n",
    "        )\n",
    "        self.hidden2 = nn.Sequential(\n",
    "            nn.Linear(512, 256),\n",
    "            nn.LeakyReLU(0.2),\n",
    "            nn.Dropout(0.3)\n",
    "        )\n",
    "        self.out = nn.Sequential(\n",
    "            torch.nn.Linear(256, n_out),\n",
    "            torch.nn.Sigmoid()\n",
    "        )\n",
    "\n",
    "    def forward(self, x):\n",
    "        x = self.hidden0(x)\n",
    "        x = self.hidden1(x)\n",
    "        x = self.hidden2(x)\n",
    "        x = self.out(x)\n",
    "        return x\n",
    "    \n",
    "discriminator = DiscriminatorNet().to(device)\n",
    "print(discriminator)"
   ]
  },
  {
   "cell_type": "markdown",
   "metadata": {},
   "source": [
    "## Test Forward Pass of Discriminator"
   ]
  },
  {
   "cell_type": "code",
   "execution_count": 91,
   "metadata": {},
   "outputs": [
    {
     "data": {
      "text/plain": [
       "torch.Size([60000, 28, 28])"
      ]
     },
     "execution_count": 91,
     "metadata": {},
     "output_type": "execute_result"
    }
   ],
   "source": [
    "dataset.train_data.shape"
   ]
  },
  {
   "cell_type": "code",
   "execution_count": 92,
   "metadata": {},
   "outputs": [],
   "source": [
    "def images_to_vectors(images):\n",
    "    return images.view(images.size(0), 784)\n",
    "\n",
    "def vectors_to_images(vectors):\n",
    "    return vectors.view(vectors.size(0), 1, 28, 28)"
   ]
  },
  {
   "cell_type": "code",
   "execution_count": 93,
   "metadata": {},
   "outputs": [
    {
     "data": {
      "text/plain": [
       "torch.Size([10, 1])"
      ]
     },
     "execution_count": 93,
     "metadata": {},
     "output_type": "execute_result"
    }
   ],
   "source": [
    "# test forward pass\n",
    "x = np.random.uniform(0, 1, size=(10, 28, 28, 1)).astype('float32')\n",
    "x = torch.autograd.Variable(images_to_vectors(torch.from_numpy(x)))\n",
    "\n",
    "out = discriminator(x.to(device))\n",
    "out.shape"
   ]
  },
  {
   "cell_type": "markdown",
   "metadata": {},
   "source": [
    "# Define the Generator Network"
   ]
  },
  {
   "cell_type": "code",
   "execution_count": 94,
   "metadata": {},
   "outputs": [
    {
     "name": "stdout",
     "output_type": "stream",
     "text": [
      "GeneratorNet(\n",
      "  (hidden0): Sequential(\n",
      "    (0): Linear(in_features=100, out_features=256, bias=True)\n",
      "    (1): LeakyReLU(negative_slope=0.2)\n",
      "  )\n",
      "  (hidden1): Sequential(\n",
      "    (0): Linear(in_features=256, out_features=512, bias=True)\n",
      "    (1): LeakyReLU(negative_slope=0.2)\n",
      "  )\n",
      "  (hidden2): Sequential(\n",
      "    (0): Linear(in_features=512, out_features=1024, bias=True)\n",
      "    (1): LeakyReLU(negative_slope=0.2)\n",
      "  )\n",
      "  (out): Sequential(\n",
      "    (0): Linear(in_features=1024, out_features=784, bias=True)\n",
      "    (1): Tanh()\n",
      "  )\n",
      ")\n"
     ]
    }
   ],
   "source": [
    "class GeneratorNet(torch.nn.Module):\n",
    "    \n",
    "    def __init__(self):\n",
    "        super(GeneratorNet, self).__init__()\n",
    "        n_features = 100\n",
    "        n_out = 784\n",
    "        \n",
    "        self.hidden0 = nn.Sequential(\n",
    "            nn.Linear(n_features, 256),\n",
    "            nn.LeakyReLU(0.2)\n",
    "        )\n",
    "        self.hidden1 = nn.Sequential(            \n",
    "            nn.Linear(256, 512),\n",
    "            nn.LeakyReLU(0.2)\n",
    "        )\n",
    "        self.hidden2 = nn.Sequential(\n",
    "            nn.Linear(512, 1024),\n",
    "            nn.LeakyReLU(0.2)\n",
    "        )\n",
    "        \n",
    "        self.out = nn.Sequential(\n",
    "            nn.Linear(1024, n_out),\n",
    "            nn.Tanh()\n",
    "        )\n",
    "\n",
    "    def forward(self, x):\n",
    "        x = self.hidden0(x)\n",
    "        x = self.hidden1(x)\n",
    "        x = self.hidden2(x)\n",
    "        x = self.out(x)\n",
    "        return x\n",
    "    \n",
    "generator = GeneratorNet().to(device)\n",
    "print(generator)"
   ]
  },
  {
   "cell_type": "markdown",
   "metadata": {},
   "source": [
    "## Test Forward Pass of Generator"
   ]
  },
  {
   "cell_type": "code",
   "execution_count": 96,
   "metadata": {},
   "outputs": [
    {
     "data": {
      "text/plain": [
       "torch.Size([10, 784])"
      ]
     },
     "execution_count": 96,
     "metadata": {},
     "output_type": "execute_result"
    }
   ],
   "source": [
    "# test forward pass\n",
    "x = np.random.uniform(0, 1, size=(10, 100)).astype('float32')\n",
    "x = torch.autograd.Variable(torch.from_numpy(x))\n",
    "\n",
    "out = generator(x.to(device))\n",
    "out.shape"
   ]
  },
  {
   "cell_type": "markdown",
   "metadata": {},
   "source": [
    "# Define Noise Function"
   ]
  },
  {
   "cell_type": "code",
   "execution_count": 74,
   "metadata": {},
   "outputs": [],
   "source": [
    "def noise(size):\n",
    "    '''\n",
    "    Generates a 1-d vector of gaussian sampled random values\n",
    "    '''\n",
    "    n = Variable(torch.randn(size, 100))\n",
    "    return n"
   ]
  },
  {
   "cell_type": "markdown",
   "metadata": {},
   "source": [
    "# Define Optimizer and Loss Function"
   ]
  },
  {
   "cell_type": "code",
   "execution_count": 75,
   "metadata": {},
   "outputs": [],
   "source": [
    "loss = nn.BCELoss()\n",
    "\n",
    "d_optimizer = optim.Adam(discriminator.parameters(), lr=0.0002)\n",
    "g_optimizer = optim.Adam(generator.parameters(), lr=0.0002)"
   ]
  },
  {
   "cell_type": "markdown",
   "metadata": {},
   "source": [
    "# Define a Data Loader"
   ]
  },
  {
   "cell_type": "code",
   "execution_count": 77,
   "metadata": {},
   "outputs": [],
   "source": [
    "BATCH_SIZE = 100\n",
    "\n",
    "# Create loader with data, so that we can iterate over it\n",
    "dataloader = torch.utils.data.DataLoader(dataset=dataset, \n",
    "                                         batch_size=BATCH_SIZE,\n",
    "                                         shuffle=True)\n",
    "\n",
    "# Num batches\n",
    "num_batches = len(dataloader)"
   ]
  },
  {
   "cell_type": "code",
   "execution_count": 78,
   "metadata": {},
   "outputs": [],
   "source": [
    "def ones_target(size):\n",
    "    '''\n",
    "    Tensor containing ones, with shape = size\n",
    "    '''\n",
    "    data = Variable(torch.ones(size, 1))\n",
    "    return data\n",
    "\n",
    "def zeros_target(size):\n",
    "    '''\n",
    "    Tensor containing zeros, with shape = size\n",
    "    '''\n",
    "    data = Variable(torch.zeros(size, 1))\n",
    "    return data"
   ]
  },
  {
   "cell_type": "markdown",
   "metadata": {},
   "source": [
    "# Discriminator Training"
   ]
  },
  {
   "cell_type": "code",
   "execution_count": 79,
   "metadata": {},
   "outputs": [],
   "source": [
    "def train_discriminator(optimizer, real_data, fake_data):\n",
    "    N = real_data.size(0)\n",
    "    # Reset gradients\n",
    "    optimizer.zero_grad()\n",
    "    \n",
    "    # 1.1 Train on Real Data\n",
    "    prediction_real = discriminator(real_data)\n",
    "    # Calculate error and backpropagate\n",
    "    error_real = loss(prediction_real, ones_target(N) )\n",
    "    error_real.backward()\n",
    "\n",
    "    # 1.2 Train on Fake Data\n",
    "    prediction_fake = discriminator(fake_data)\n",
    "    # Calculate error and backpropagate\n",
    "    error_fake = loss(prediction_fake, zeros_target(N))\n",
    "    error_fake.backward()\n",
    "    \n",
    "    # 1.3 Update weights with gradients\n",
    "    optimizer.step()\n",
    "    \n",
    "    # Return error and predictions for real and fake inputs\n",
    "    return error_real + error_fake, prediction_real, prediction_fake"
   ]
  },
  {
   "cell_type": "markdown",
   "metadata": {},
   "source": [
    "# Generator Training"
   ]
  },
  {
   "cell_type": "code",
   "execution_count": 80,
   "metadata": {},
   "outputs": [],
   "source": [
    "def train_generator(optimizer, fake_data):\n",
    "    N = fake_data.size(0)\n",
    "    \n",
    "    # Zero gradients\n",
    "    optimizer.zero_grad()\n",
    "    \n",
    "    # Sample noise and generate fake data\n",
    "    prediction = discriminator(fake_data)\n",
    "    \n",
    "    # Calculate error and backpropagate\n",
    "    error = loss(prediction, ones_target(N))\n",
    "    error.backward()\n",
    "    \n",
    "    # Update weights with gradients\n",
    "    optimizer.step()\n",
    "    \n",
    "    return error"
   ]
  },
  {
   "cell_type": "markdown",
   "metadata": {},
   "source": [
    "# Displaying GAN Training Results"
   ]
  },
  {
   "cell_type": "code",
   "execution_count": 196,
   "metadata": {},
   "outputs": [],
   "source": [
    "def display_training(real_images, fake_images, real_labels, pred_real, pred_fake):\n",
    "    \"\"\"\"\"\"\n",
    "    pred_real = pred_real.detach().numpy().flatten()\n",
    "    pred_fake = pred_fake.detach().numpy().flatten()\n",
    "    pred_real = ['True' if p >= 0.5 else 'False' for p in pred_real]\n",
    "    pred_fake = ['True' if p >= 0.5 else 'False' for p in pred_fake]\n",
    "    real_labels = real_labels.detach().numpy()\n",
    "    \n",
    "    fig, axs = plt.subplots(2, 5, figsize=(15,7), sharey=True)\n",
    "    \n",
    "    # plot original images\n",
    "    for i, real_im, fake_im in zip(range(len(real_images)), real_images, fake_images):\n",
    "        axs[0][i].imshow(real_im.numpy()[0].data, cmap='gray')\n",
    "        axs[0][i].set_title(\"Real Label: {}\".format(real_labels[i]), fontsize=16)\n",
    "        axs[1][i].imshow(fake_im.detach().numpy()[0], cmap='gray')\n",
    "        axs[1][i].set_title(\"Predicted Real: {}\\nPredicted Fake: {}\".format(pred_real[i], pred_fake[i]))\n",
    "    plt.tight_layout()\n",
    "    plt.show()"
   ]
  },
  {
   "cell_type": "markdown",
   "metadata": {},
   "source": [
    "# Training Loop"
   ]
  },
  {
   "cell_type": "code",
   "execution_count": 197,
   "metadata": {
    "scrolled": false
   },
   "outputs": [
    {
     "data": {
      "image/png": "[encoded data removed]",
      "text/plain": [
       "<Figure size 1080x504 with 10 Axes>"
      ]
     },
     "metadata": {},
     "output_type": "display_data"
    },
    {
     "data": {
      "image/png": "[encoded data removed]",
      "text/plain": [
       "<Figure size 864x504 with 1 Axes>"
      ]
     },
     "metadata": {},
     "output_type": "display_data"
    },
    {
     "name": "stdout",
     "output_type": "stream",
     "text": [
      "Total Training Time: 2m 48s\n"
     ]
    }
   ],
   "source": [
    "# Generate test noise\n",
    "num_test_samples = 16\n",
    "test_noise = noise(num_test_samples)\n",
    "\n",
    "# Total number of epochs to train\n",
    "num_epochs = 1000\n",
    "train_results = pd.DataFrame(columns=['epoch', 'd_loss', 'g_loss'])\n",
    "start_time = timer()\n",
    "\n",
    "for epoch in range(num_epochs):\n",
    "    \n",
    "    epoch_start = timer()\n",
    "    \n",
    "    for n_batch, (real_batch, real_labels) in enumerate(dataloader):\n",
    "        \n",
    "        N = real_batch.size(0)\n",
    "        \n",
    "        # 1. Train Discriminator\n",
    "        real_data = Variable(images_to_vectors(real_batch))\n",
    "        \n",
    "        # Generate fake data and detach \n",
    "        # (so gradients are not calculated for generator)\n",
    "        fake_data = generator(noise(N)).detach()\n",
    "        \n",
    "        # Train Discriminator\n",
    "        d_error, d_pred_real, d_pred_fake = train_discriminator(d_optimizer, real_data, fake_data)\n",
    "\n",
    "        # 2. Train Generator\n",
    "        # Generate fake data\n",
    "        fake_data = generator(noise(N))\n",
    "        \n",
    "        # Train Generator\n",
    "        g_error = train_generator(g_optimizer, fake_data)\n",
    "        \n",
    "        break\n",
    "        \n",
    "    results = [epoch+1, d_error, g_error]\n",
    "    train_results.loc[epoch] = results\n",
    "    \n",
    "    # display images\n",
    "    if epoch % 10 == 0:\n",
    "        real_data_display = vectors_to_images(real_data[-5:])\n",
    "        real_labels_display = real_labels[-5:]\n",
    "        \n",
    "        fake_data_display = vectors_to_images(fake_data[-5:])\n",
    "        pred_labels_real = d_pred_real[-5:]\n",
    "        pred_labels_fake = d_pred_fake[-5:]\n",
    "        \n",
    "        display_training(real_data_display, \n",
    "                         fake_data_display, \n",
    "                         real_labels_display,\n",
    "                         pred_labels_real, \n",
    "                         pred_labels_fake)\n",
    "        \n",
    "        \n",
    "    \n",
    "        # plot results\n",
    "        fig = plt.figure(figsize=(12,7))\n",
    "        plt.title(\"Running results\", fontsize=14)\n",
    "        plt.ylabel(\"Loss\", fontsize=10)\n",
    "        plt.xlabel(\"Epoch\", fontsize=10)\n",
    "        plt.plot(train_results['epoch'], train_results['d_loss'], color='tab:blue', linestyle='-', label='Discriminator loss')\n",
    "        plt.plot(train_results['epoch'], train_results['g_loss'], color='tab:orange', linestyle='-', label='Generator loss')\n",
    "        plt.legend(loc='upper right')\n",
    "        plt.show()\n",
    "\n",
    "        epoch_time = timer() - epoch_start\n",
    "        print(\"Epoch {} Training Time: {:.0f}m {:.0f}s\".format(epoch + 1, epoch_time // 60, epoch_time % 60))\n",
    "        clear_output(wait=True)\n",
    "\n",
    "# display images\n",
    "real_data_display = vectors_to_images(real_data[-5:])\n",
    "real_labels_display = real_labels[-5:]\n",
    "\n",
    "fake_data_display = vectors_to_images(fake_data[-5:])\n",
    "pred_labels_real = d_pred_real[-5:]\n",
    "pred_labels_fake = d_pred_fake[-5:]\n",
    "\n",
    "display_training(real_data_display, \n",
    "                 fake_data_display, \n",
    "                 real_labels_display,\n",
    "                 pred_labels_real, \n",
    "                 pred_labels_fake)\n",
    "    \n",
    "# plot results\n",
    "fig = plt.figure(figsize=(12,7))\n",
    "plt.title(\"Final results\", fontsize=14)\n",
    "plt.ylabel(\"Loss\", fontsize=10)\n",
    "plt.xlabel(\"Epoch\", fontsize=10)\n",
    "plt.plot(train_results['epoch'], train_results['d_loss'], color='tab:blue', linestyle='-', label='Discriminator loss')\n",
    "plt.plot(train_results['epoch'], train_results['g_loss'], color='tab:orange', linestyle='-', label='Generator loss')\n",
    "plt.legend(loc='upper right')\n",
    "plt.show()\n",
    "\n",
    "total_time = timer() - start_time\n",
    "print(\"Total Training Time: {:.0f}m {:.0f}s\".format(total_time // 60, total_time % 60))\n"
   ]
  },
  {
   "cell_type": "code",
   "execution_count": null,
   "metadata": {},
   "outputs": [],
   "source": []
  }
 ],
 "metadata": {
  "kernelspec": {
   "display_name": "Python [default]",
   "language": "python",
   "name": "python3"
  },
  "language_info": {
   "codemirror_mode": {
    "name": "ipython",
    "version": 3
   },
   "file_extension": ".py",
   "mimetype": "text/x-python",
   "name": "python",
   "nbconvert_exporter": "python",
   "pygments_lexer": "ipython3",
   "version": "3.6.5"
  }
 },
 "nbformat": 4,
 "nbformat_minor": 2
}
